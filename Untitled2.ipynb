{
  "nbformat": 4,
  "nbformat_minor": 0,
  "metadata": {
    "colab": {
      "name": "Untitled2.ipynb",
      "provenance": [],
      "authorship_tag": "ABX9TyM17HfXiv2CSHyovWk1ZId7",
      "include_colab_link": true
    },
    "kernelspec": {
      "name": "python3",
      "display_name": "Python 3"
    }
  },
  "cells": [
    {
      "cell_type": "markdown",
      "metadata": {
        "id": "view-in-github",
        "colab_type": "text"
      },
      "source": [
        "<a href=\"https://colab.research.google.com/github/gg910530/python0311/blob/master/Untitled2.ipynb\" target=\"_parent\"><img src=\"https://colab.research.google.com/assets/colab-badge.svg\" alt=\"Open In Colab\"/></a>"
      ]
    },
    {
      "cell_type": "code",
      "metadata": {
        "id": "ydiiO-kUoqUW",
        "colab_type": "code",
        "colab": {
          "base_uri": "https://localhost:8080/",
          "height": 34
        },
        "outputId": "8a9307c8-548e-4dc3-ed0d-07474a542cb6"
      },
      "source": [
        "a = 17 / 3\n",
        "b = 17 // 3\n",
        "c = 17 % 3\n",
        "\n",
        "a,b,c"
      ],
      "execution_count": 2,
      "outputs": [
        {
          "output_type": "execute_result",
          "data": {
            "text/plain": [
              "(5.666666666666667, 5, 2)"
            ]
          },
          "metadata": {
            "tags": []
          },
          "execution_count": 2
        }
      ]
    },
    {
      "cell_type": "code",
      "metadata": {
        "id": "_YHZpBQaot7l",
        "colab_type": "code",
        "colab": {
          "base_uri": "https://localhost:8080/",
          "height": 50
        },
        "outputId": "54e75cd3-2c14-4a71-ce64-cda0c7e2ef1e"
      },
      "source": [
        "var1 = 'Hello Python!'\n",
        " \n",
        "print(\"var1[0]: \", var1[0])\n",
        "print(\"var1[1:8]: \", var1[1:8])"
      ],
      "execution_count": 3,
      "outputs": [
        {
          "output_type": "stream",
          "text": [
            "var1[0]:  H\n",
            "var1[1:8]:  ello Py\n"
          ],
          "name": "stdout"
        }
      ]
    },
    {
      "cell_type": "code",
      "metadata": {
        "id": "k786JtAjoxHF",
        "colab_type": "code",
        "colab": {
          "base_uri": "https://localhost:8080/",
          "height": 34
        },
        "outputId": "c9803eca-d647-4083-9ec6-428f64bbe2db"
      },
      "source": [
        "list1 = [21, 33, 14, 12, 32,98]\n",
        "\n",
        "list1[1]\n",
        "len(list1)\n",
        "max(list1)\n",
        "min(list1)\n",
        "sum(list1)"
      ],
      "execution_count": 4,
      "outputs": [
        {
          "output_type": "execute_result",
          "data": {
            "text/plain": [
              "210"
            ]
          },
          "metadata": {
            "tags": []
          },
          "execution_count": 4
        }
      ]
    },
    {
      "cell_type": "code",
      "metadata": {
        "id": "edUZJhhAo2A1",
        "colab_type": "code",
        "colab": {
          "base_uri": "https://localhost:8080/",
          "height": 50
        },
        "outputId": "527a9fd1-9f9d-4d79-bcfc-4018fb576e00"
      },
      "source": [
        "dict = {'Name': 'DaDaLong', 'Age': 17, 'Class': 'First'}\n",
        " \n",
        "print(\"dict['Name']: \", dict['Name'])\n",
        "print(\"dict['Age']: \", dict['Age'])"
      ],
      "execution_count": 5,
      "outputs": [
        {
          "output_type": "stream",
          "text": [
            "dict['Name']:  DaDaLong\n",
            "dict['Age']:  17\n"
          ],
          "name": "stdout"
        }
      ]
    },
    {
      "cell_type": "code",
      "metadata": {
        "id": "BIPzFltzo5n9",
        "colab_type": "code",
        "colab": {
          "base_uri": "https://localhost:8080/",
          "height": 34
        },
        "outputId": "f87b62cc-20ce-46ae-d7c1-6d33e120a0ed"
      },
      "source": [
        "-3%2"
      ],
      "execution_count": 6,
      "outputs": [
        {
          "output_type": "execute_result",
          "data": {
            "text/plain": [
              "1"
            ]
          },
          "metadata": {
            "tags": []
          },
          "execution_count": 6
        }
      ]
    },
    {
      "cell_type": "code",
      "metadata": {
        "id": "cvPoZpefpEN2",
        "colab_type": "code",
        "colab": {
          "base_uri": "https://localhost:8080/",
          "height": 34
        },
        "outputId": "c770f246-a503-4c8c-e2b5-59dd45228555"
      },
      "source": [
        "a = 7//2\n",
        "b = 7.0//2\n",
        "c = 7//2.0\n",
        "\n",
        "a,b,c"
      ],
      "execution_count": 7,
      "outputs": [
        {
          "output_type": "execute_result",
          "data": {
            "text/plain": [
              "(3, 3.0, 3.0)"
            ]
          },
          "metadata": {
            "tags": []
          },
          "execution_count": 7
        }
      ]
    },
    {
      "cell_type": "code",
      "metadata": {
        "id": "7YJvJRjMpG_l",
        "colab_type": "code",
        "colab": {
          "base_uri": "https://localhost:8080/",
          "height": 34
        },
        "outputId": "0ff20e12-2d3a-4f0a-aa67-74ec2f5624dd"
      },
      "source": [
        "5 ** 2"
      ],
      "execution_count": 8,
      "outputs": [
        {
          "output_type": "execute_result",
          "data": {
            "text/plain": [
              "25"
            ]
          },
          "metadata": {
            "tags": []
          },
          "execution_count": 8
        }
      ]
    },
    {
      "cell_type": "code",
      "metadata": {
        "id": "p1kVo5h4pJNV",
        "colab_type": "code",
        "colab": {
          "base_uri": "https://localhost:8080/",
          "height": 34
        },
        "outputId": "c7640e06-a848-4316-a4b4-c379d3597985"
      },
      "source": [
        "x = 5\n",
        "\n",
        "print(x > 3 and x < 10)"
      ],
      "execution_count": 9,
      "outputs": [
        {
          "output_type": "stream",
          "text": [
            "True\n"
          ],
          "name": "stdout"
        }
      ]
    },
    {
      "cell_type": "code",
      "metadata": {
        "id": "hjwLQ42BpMAV",
        "colab_type": "code",
        "colab": {
          "base_uri": "https://localhost:8080/",
          "height": 34
        },
        "outputId": "e905d118-ebab-48c2-f7c6-427f1a8931c6"
      },
      "source": [
        "x = 5\n",
        "\n",
        "print(x > 3 or x < 4)"
      ],
      "execution_count": 10,
      "outputs": [
        {
          "output_type": "stream",
          "text": [
            "True\n"
          ],
          "name": "stdout"
        }
      ]
    },
    {
      "cell_type": "code",
      "metadata": {
        "id": "dnQZo7qbpPwF",
        "colab_type": "code",
        "colab": {
          "base_uri": "https://localhost:8080/",
          "height": 34
        },
        "outputId": "1915cbe6-8ac9-434c-c90b-6fd44f94d834"
      },
      "source": [
        "x = 5\n",
        "\n",
        "print(not(x > 3 and x < 10))"
      ],
      "execution_count": 11,
      "outputs": [
        {
          "output_type": "stream",
          "text": [
            "False\n"
          ],
          "name": "stdout"
        }
      ]
    },
    {
      "cell_type": "code",
      "metadata": {
        "id": "tp7CSL_FpSs-",
        "colab_type": "code",
        "colab": {
          "base_uri": "https://localhost:8080/",
          "height": 151
        },
        "outputId": "b82fd502-86e8-4d36-b5f0-ce7722bbd0e4"
      },
      "source": [
        "#!/usr/bin/python3\n",
        " \n",
        "a = 60            # 60 = 0011 1100 \n",
        "b = 13            # 13 = 0000 1101 \n",
        "c = 0\n",
        "\n",
        "print (\"0 - a =  60 = 0011 1100(二進位) \")\n",
        "print (\"0 - b =  13 = 0000 1101(二進位) \")\n",
        "c = a & b;        # 12 = 0000 1100\n",
        "print (\"1 - c = a & b的值為：\", c)\n",
        " \n",
        "c = a | b;        # 61 = 0011 1101 \n",
        "print (\"2 - c = a | b的值為：\", c)\n",
        " \n",
        "c = a ^ b;        # 49 = 0011 0001\n",
        "print (\"3 - c= a ^ b 的值為：\", c)\n",
        " \n",
        "c = ~a;           # -61 = 1100 0011\n",
        "print (\"4 - c = ~a的值為：\", c)\n",
        " \n",
        "c = a << 2;       # 240 = 1111 0000\n",
        "print (\"5 - c = a << 2的值為：\", c)\n",
        " \n",
        "c = a >> 2;       # 15 = 0000 1111\n",
        "print (\"6 - c = a >> 2的值為：\", c)"
      ],
      "execution_count": 12,
      "outputs": [
        {
          "output_type": "stream",
          "text": [
            "0 - a =  60 = 0011 1100(二進位) \n",
            "0 - b =  13 = 0000 1101(二進位) \n",
            "1 - c = a & b的值為： 12\n",
            "2 - c = a | b的值為： 61\n",
            "3 - c= a ^ b 的值為： 49\n",
            "4 - c = ~a的值為： -61\n",
            "5 - c = a << 2的值為： 240\n",
            "6 - c = a >> 2的值為： 15\n"
          ],
          "name": "stdout"
        }
      ]
    },
    {
      "cell_type": "code",
      "metadata": {
        "id": "ZYrro5TGpWiv",
        "colab_type": "code",
        "colab": {
          "base_uri": "https://localhost:8080/",
          "height": 34
        },
        "outputId": "55b34cd4-31a4-4248-bee3-63f2ac40f72e"
      },
      "source": [
        "x = bin(36)\n",
        "x\n",
        "\n",
        "x = oct(36)\n",
        "x\n",
        "\n",
        "x = hex(255)\n",
        "x"
      ],
      "execution_count": 13,
      "outputs": [
        {
          "output_type": "execute_result",
          "data": {
            "text/plain": [
              "'0xff'"
            ]
          },
          "metadata": {
            "tags": []
          },
          "execution_count": 13
        }
      ]
    },
    {
      "cell_type": "code",
      "metadata": {
        "id": "lv_pCNzopZgf",
        "colab_type": "code",
        "colab": {
          "base_uri": "https://localhost:8080/",
          "height": 34
        },
        "outputId": "3ba4ec82-7c19-4124-d4d8-780d9fe570c9"
      },
      "source": [
        "x=int('10',2)\n",
        "x\n",
        "\n",
        "x=int('10',16)\n",
        "x\n",
        "\n",
        "x=int('10',8)\n",
        "x"
      ],
      "execution_count": 14,
      "outputs": [
        {
          "output_type": "execute_result",
          "data": {
            "text/plain": [
              "8"
            ]
          },
          "metadata": {
            "tags": []
          },
          "execution_count": 14
        }
      ]
    },
    {
      "cell_type": "code",
      "metadata": {
        "id": "qEWFG0NQpcQ-",
        "colab_type": "code",
        "colab": {
          "base_uri": "https://localhost:8080/",
          "height": 50
        },
        "outputId": "030a762f-e7b6-4d34-82c3-d61c15a9f294"
      },
      "source": [
        "#Round a number to only two decimals:\n",
        "\n",
        "x = round(5.76543, 2)\n",
        "print(x)\n",
        "\n",
        "# Round to the nearest integer:\n",
        "\n",
        "x = round(5.76543)\n",
        "print(x)\n"
      ],
      "execution_count": 15,
      "outputs": [
        {
          "output_type": "stream",
          "text": [
            "5.77\n",
            "6\n"
          ],
          "name": "stdout"
        }
      ]
    },
    {
      "cell_type": "code",
      "metadata": {
        "id": "sFHt_uJvpfMt",
        "colab_type": "code",
        "colab": {
          "base_uri": "https://localhost:8080/",
          "height": 34
        },
        "outputId": "8cc745dd-2d11-4e96-d7e8-9b50416e379b"
      },
      "source": [
        "a = 1.0004\n",
        "int(a)\n",
        "\n",
        "b = 0.9999\n",
        "int(a)"
      ],
      "execution_count": 16,
      "outputs": [
        {
          "output_type": "execute_result",
          "data": {
            "text/plain": [
              "1"
            ]
          },
          "metadata": {
            "tags": []
          },
          "execution_count": 16
        }
      ]
    }
  ]
}